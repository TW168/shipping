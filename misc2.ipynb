{
 "cells": [
  {
   "cell_type": "code",
   "execution_count": 25,
   "metadata": {},
   "outputs": [
    {
     "name": "stdout",
     "output_type": "stream",
     "text": [
      "Successfully connected to MYSQL database: sakila\n",
      "     actor_id first_name     last_name         last_update\n",
      "0           1   PENELOPE       GUINESS 2006-02-15 04:34:33\n",
      "1           2       NICK      WAHLBERG 2006-02-15 04:34:33\n",
      "2           3         ED         CHASE 2006-02-15 04:34:33\n",
      "3           4   JENNIFER         DAVIS 2006-02-15 04:34:33\n",
      "4           5     JOHNNY  LOLLOBRIGIDA 2006-02-15 04:34:33\n",
      "..        ...        ...           ...                 ...\n",
      "195       196       BELA        WALKEN 2006-02-15 04:34:33\n",
      "196       197      REESE          WEST 2006-02-15 04:34:33\n",
      "197       198       MARY        KEITEL 2006-02-15 04:34:33\n",
      "198       199      JULIA       FAWCETT 2006-02-15 04:34:33\n",
      "199       200      THORA        TEMPLE 2006-02-15 04:34:33\n",
      "\n",
      "[200 rows x 4 columns]\n"
     ]
    }
   ],
   "source": [
    "import pandas as pd \n",
    "from helper import connect_to_database\n",
    "#from sql_qry import stacker3_custom_made\n",
    "\n",
    "\n",
    "\n",
    "conn = connect_to_database('home_db')\n",
    "\n",
    "qry = \"\"\" select * from actor \"\"\"\n",
    "df = pd.read_sql_query(qry, con=conn)\n",
    "print(df)\n",
    "conn.close()"
   ]
  },
  {
   "cell_type": "code",
   "execution_count": 28,
   "metadata": {},
   "outputs": [
    {
     "data": {
      "text/plain": [
       "Index(['SITE', 'B/L Number', 'Truck Appointment Date (YY/MM/DD)',\n",
       "       'B/L Weight (LB)', 'Freight Amount ($)', 'Truck Appt. Time',\n",
       "       'PickUp Date (YY/MM/DD)', 'State', 'Ship to City', 'Ship to Customer',\n",
       "       'Order Number', 'Order Item', 'CSR', 'Freight Term',\n",
       "       'Require Date (YY/MM/DD)', 'Schedule Date (YY/MM/DD)',\n",
       "       'Unshipped Weight (Lb)', 'Product Code', 'Pick Weight (Lb)',\n",
       "       'Number of Pallet', 'Pickup By', 'Change Date (YY/MM/DD)', 'Carrier ID',\n",
       "       'Arrange By', 'Unit Freight (cent/Lb)', 'Waybill Number', 'Sales Code',\n",
       "       'Transportation Code', 'Transaction Type', 'Product Group',\n",
       "       'Report run at 2023-2-24 H9M0'],\n",
       "      dtype='object')"
      ]
     },
     "execution_count": 28,
     "metadata": {},
     "output_type": "execute_result"
    }
   ],
   "source": [
    "df = pd.read_excel(r\"C:\\Users\\tonyw\\Downloads\\AmTopp Current Pickup Detail Report as of 2023-2-24 H9M0.xlsx\")\n",
    "df.columns"
   ]
  },
  {
   "cell_type": "code",
   "execution_count": 30,
   "metadata": {},
   "outputs": [
    {
     "data": {
      "text/plain": [
       "56"
      ]
     },
     "execution_count": 30,
     "metadata": {},
     "output_type": "execute_result"
    }
   ],
   "source": [
    "file1=\"AmTopp Current Pickup Detail Report as of 2023-2-24 H9M0\" \n",
    "len(file1)\n"
   ]
  },
  {
   "cell_type": "code",
   "execution_count": null,
   "metadata": {},
   "outputs": [],
   "source": []
  }
 ],
 "metadata": {
  "kernelspec": {
   "display_name": "venv",
   "language": "python",
   "name": "python3"
  },
  "language_info": {
   "codemirror_mode": {
    "name": "ipython",
    "version": 3
   },
   "file_extension": ".py",
   "mimetype": "text/x-python",
   "name": "python",
   "nbconvert_exporter": "python",
   "pygments_lexer": "ipython3",
   "version": "3.11.2"
  },
  "orig_nbformat": 4,
  "vscode": {
   "interpreter": {
    "hash": "1f45fa9922e5774a14b98c69ad8c918393caec1b598246a4187c12b4495d4e66"
   }
  }
 },
 "nbformat": 4,
 "nbformat_minor": 2
}
