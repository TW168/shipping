{
 "cells": [
  {
   "cell_type": "code",
   "execution_count": 21,
   "metadata": {},
   "outputs": [],
   "source": [
    "import streamlit as st\n",
    "import mysql.connector\n",
    "import pandas as pd\n",
    "\n",
    "# Initialize connection.\n",
    "# Uses st.cache_resource to only run once.\n",
    "@st.cache_resource\n",
    "def init_connection():\n",
    "    return mysql.connector.connect(**st.secrets[\"db3_db\"])\n",
    "\n",
    "conn= init_connection()"
   ]
  },
  {
   "cell_type": "code",
   "execution_count": 24,
   "metadata": {},
   "outputs": [
    {
     "name": "stdout",
     "output_type": "stream",
     "text": [
      "        id  Site BL_Number Truck_Appointment_Date  BL_Weight  Freight_Amount  \\\n",
      "0        1  AMAZ   WZ1A645                   None     1202.0            0.00   \n",
      "1        2  AMAZ   WZ1B035                   None    11688.0            0.00   \n",
      "2        3  AMAZ   WZ2A056                   None    11110.0            0.00   \n",
      "3        4  AMAZ   WZ2A056                   None    11110.0            0.00   \n",
      "4        5  AMAZ   WZ2A390                   None    22232.0            0.00   \n",
      "...    ...   ...       ...                    ...        ...             ...   \n",
      "3031  3032  VAMT   2065349             2023-02-27    22126.8         1875.74   \n",
      "3032  3033  VAMT   2065349             2023-02-27    22126.8         1875.74   \n",
      "3033  3034  VAMT   2065349             2023-02-27    22126.8         1875.74   \n",
      "3034  3035  VAMT   2065349             2023-02-27    22126.8         1875.74   \n",
      "3035  3036  VAMT   2065350                   None    27802.1            0.00   \n",
      "\n",
      "     Truck_Appt_Time Pickup_Date State    Ship_to_City  ... Waybill_Number  \\\n",
      "0                NaT  2023-02-15    UT  SALT LAKE CITY  ...           None   \n",
      "1                NaT  2023-02-13    WA          BLAINE  ...           None   \n",
      "2                NaT  2023-02-03    CA         FREMONT  ...           None   \n",
      "3                NaT  2023-02-22    CA         FREMONT  ...           None   \n",
      "4                NaT  2023-02-13    CO   COMMERCE CITY  ...           None   \n",
      "...              ...         ...   ...             ...  ...            ...   \n",
      "3031             NaT  2023-02-20    PA            YORK  ...        5264206   \n",
      "3032             NaT  2023-02-20    PA            YORK  ...        5264206   \n",
      "3033             NaT  2023-02-20    PA            YORK  ...        5264206   \n",
      "3034             NaT  2023-02-20    PA            YORK  ...        5264206   \n",
      "3035             NaT  2023-02-17    IN      GREENFIELD  ...           None   \n",
      "\n",
      "     Sales_Code Transportation_Code Transaction_Type Product_Group  \\\n",
      "0          SWCK                   T               RS            SW   \n",
      "1          SWZU                   T               RS            SW   \n",
      "2          SWBE                   T               RS            SW   \n",
      "3          SWBE                   T               RS            SW   \n",
      "4          SWCK                   T               RS            SW   \n",
      "...         ...                 ...              ...           ...   \n",
      "3031       CFGF                   T               SX            BP   \n",
      "3032       CFGF                   T               SX            BP   \n",
      "3033       CFGF                   T               SX            BP   \n",
      "3034       CFGF                   T               SX            BP   \n",
      "3035       CFTO                   T               RS            BP   \n",
      "\n",
      "      uploaded_date_time rpt_run_date    rpt_run_time  \\\n",
      "0    2023-02-25 14:58:51   2023-02-24 0 days 16:00:00   \n",
      "1    2023-02-25 14:58:51   2023-02-24 0 days 16:00:00   \n",
      "2    2023-02-25 14:58:51   2023-02-24 0 days 16:00:00   \n",
      "3    2023-02-25 14:58:51   2023-02-24 0 days 16:00:00   \n",
      "4    2023-02-25 14:58:51   2023-02-24 0 days 16:00:00   \n",
      "...                  ...          ...             ...   \n",
      "3031 2023-02-25 15:07:40   2023-02-20 0 days 16:00:00   \n",
      "3032 2023-02-25 15:07:40   2023-02-20 0 days 16:00:00   \n",
      "3033 2023-02-25 15:07:40   2023-02-20 0 days 16:00:00   \n",
      "3034 2023-02-25 15:07:40   2023-02-20 0 days 16:00:00   \n",
      "3035 2023-02-25 15:07:40   2023-02-20 0 days 16:00:00   \n",
      "\n",
      "                                              file_name  file_size  \n",
      "0     AmTopp Current Pickup Detail Report as of 2023...     199553  \n",
      "1     AmTopp Current Pickup Detail Report as of 2023...     199553  \n",
      "2     AmTopp Current Pickup Detail Report as of 2023...     199553  \n",
      "3     AmTopp Current Pickup Detail Report as of 2023...     199553  \n",
      "4     AmTopp Current Pickup Detail Report as of 2023...     199553  \n",
      "...                                                 ...        ...  \n",
      "3031  AmTopp Current Pickup Detail Report as of 2023...     139155  \n",
      "3032  AmTopp Current Pickup Detail Report as of 2023...     139155  \n",
      "3033  AmTopp Current Pickup Detail Report as of 2023...     139155  \n",
      "3034  AmTopp Current Pickup Detail Report as of 2023...     139155  \n",
      "3035  AmTopp Current Pickup Detail Report as of 2023...     139155  \n",
      "\n",
      "[3036 rows x 36 columns]\n"
     ]
    },
    {
     "name": "stderr",
     "output_type": "stream",
     "text": [
      "C:\\Users\\tonyw\\AppData\\Local\\Temp\\ipykernel_29616\\394485314.py:1: UserWarning: pandas only supports SQLAlchemy connectable (engine/connection) or database string URI or sqlite3 DBAPI2 connection. Other DBAPI2 objects are not tested. Please consider using SQLAlchemy.\n",
      "  query =pd.read_sql('select * from ipg_ez', conn)\n"
     ]
    }
   ],
   "source": [
    "query =pd.read_sql('select * from ipg_ez', conn)\n",
    "print(query)"
   ]
  },
  {
   "cell_type": "code",
   "execution_count": 1,
   "metadata": {},
   "outputs": [
    {
     "name": "stdout",
     "output_type": "stream",
     "text": [
      "Successfully connected to MYSQL database: ws_hub\n"
     ]
    },
    {
     "data": {
      "text/plain": [
       "30844"
      ]
     },
     "execution_count": 1,
     "metadata": {},
     "output_type": "execute_result"
    }
   ],
   "source": [
    "# upload uscities to db\n",
    "import pandas as pd \n",
    "from helper import connect_to_database\n",
    "\n",
    "df = pd.read_excel('uscities.xlsx')\n",
    "\n",
    "conn = connect_to_database('ws_hub_db')\n",
    "\n",
    "df.to_sql('us_cities', con=conn, if_exists='replace', index=False)"
   ]
  },
  {
   "cell_type": "code",
   "execution_count": 3,
   "metadata": {},
   "outputs": [
    {
     "name": "stdout",
     "output_type": "stream",
     "text": [
      "Successfully connected to MYSQL database: db3\n"
     ]
    },
    {
     "data": {
      "text/plain": [
       "30844"
      ]
     },
     "execution_count": 3,
     "metadata": {},
     "output_type": "execute_result"
    }
   ],
   "source": []
  },
  {
   "cell_type": "code",
   "execution_count": 25,
   "metadata": {},
   "outputs": [
    {
     "name": "stdout",
     "output_type": "stream",
     "text": [
      "Successfully connected to MYSQL database: sakila\n",
      "     actor_id first_name     last_name         last_update\n",
      "0           1   PENELOPE       GUINESS 2006-02-15 04:34:33\n",
      "1           2       NICK      WAHLBERG 2006-02-15 04:34:33\n",
      "2           3         ED         CHASE 2006-02-15 04:34:33\n",
      "3           4   JENNIFER         DAVIS 2006-02-15 04:34:33\n",
      "4           5     JOHNNY  LOLLOBRIGIDA 2006-02-15 04:34:33\n",
      "..        ...        ...           ...                 ...\n",
      "195       196       BELA        WALKEN 2006-02-15 04:34:33\n",
      "196       197      REESE          WEST 2006-02-15 04:34:33\n",
      "197       198       MARY        KEITEL 2006-02-15 04:34:33\n",
      "198       199      JULIA       FAWCETT 2006-02-15 04:34:33\n",
      "199       200      THORA        TEMPLE 2006-02-15 04:34:33\n",
      "\n",
      "[200 rows x 4 columns]\n"
     ]
    }
   ],
   "source": [
    "import pandas as pd \n",
    "from helper import connect_to_database\n",
    "#from sql_qry import stacker3_custom_made\n",
    "\n",
    "\n",
    "\n",
    "conn = connect_to_database('home_db')\n",
    "\n",
    "qry = \"\"\" select * from actor \"\"\"\n",
    "df = pd.read_sql_query(qry, con=conn)\n",
    "print(df)\n",
    "conn.close()"
   ]
  },
  {
   "cell_type": "code",
   "execution_count": 28,
   "metadata": {},
   "outputs": [
    {
     "data": {
      "text/plain": [
       "Index(['SITE', 'B/L Number', 'Truck Appointment Date (YY/MM/DD)',\n",
       "       'B/L Weight (LB)', 'Freight Amount ($)', 'Truck Appt. Time',\n",
       "       'PickUp Date (YY/MM/DD)', 'State', 'Ship to City', 'Ship to Customer',\n",
       "       'Order Number', 'Order Item', 'CSR', 'Freight Term',\n",
       "       'Require Date (YY/MM/DD)', 'Schedule Date (YY/MM/DD)',\n",
       "       'Unshipped Weight (Lb)', 'Product Code', 'Pick Weight (Lb)',\n",
       "       'Number of Pallet', 'Pickup By', 'Change Date (YY/MM/DD)', 'Carrier ID',\n",
       "       'Arrange By', 'Unit Freight (cent/Lb)', 'Waybill Number', 'Sales Code',\n",
       "       'Transportation Code', 'Transaction Type', 'Product Group',\n",
       "       'Report run at 2023-2-24 H9M0'],\n",
       "      dtype='object')"
      ]
     },
     "execution_count": 28,
     "metadata": {},
     "output_type": "execute_result"
    }
   ],
   "source": [
    "df = pd.read_excel(r\"C:\\Users\\tonyw\\Downloads\\AmTopp Current Pickup Detail Report as of 2023-2-24 H9M0.xlsx\")\n",
    "df.columns"
   ]
  },
  {
   "cell_type": "code",
   "execution_count": 30,
   "metadata": {},
   "outputs": [
    {
     "data": {
      "text/plain": [
       "56"
      ]
     },
     "execution_count": 30,
     "metadata": {},
     "output_type": "execute_result"
    }
   ],
   "source": [
    "file1=\"AmTopp Current Pickup Detail Report as of 2023-2-24 H9M0\" \n",
    "len(file1)\n"
   ]
  },
  {
   "cell_type": "code",
   "execution_count": null,
   "metadata": {},
   "outputs": [],
   "source": []
  }
 ],
 "metadata": {
  "kernelspec": {
   "display_name": "venv",
   "language": "python",
   "name": "python3"
  },
  "language_info": {
   "codemirror_mode": {
    "name": "ipython",
    "version": 3
   },
   "file_extension": ".py",
   "mimetype": "text/x-python",
   "name": "python",
   "nbconvert_exporter": "python",
   "pygments_lexer": "ipython3",
   "version": "3.11.2"
  },
  "orig_nbformat": 4,
  "vscode": {
   "interpreter": {
    "hash": "1f45fa9922e5774a14b98c69ad8c918393caec1b598246a4187c12b4495d4e66"
   }
  }
 },
 "nbformat": 4,
 "nbformat_minor": 2
}
